{
 "cells": [
  {
   "cell_type": "code",
   "execution_count": 2,
   "id": "14c00d99",
   "metadata": {
    "scrolled": true
   },
   "outputs": [],
   "source": [
    "import pandas as pd\n",
    "import numpy as np\n",
    "import matplotlib.pyplot as plt\n",
    "import seaborn as sns\n",
    "import statsmodels.api as sm\n",
    "import warnings\n",
    "import xgboost as xgb\n",
    "from statsmodels.stats.anova import anova_lm\n",
    "from sklearn.decomposition import PCA\n",
    "from sklearn.preprocessing import StandardScaler\n",
    "from sklearn.model_selection import train_test_split\n",
    "from sklearn.metrics import mean_squared_error\n",
    "from sklearn.model_selection import KFold\n",
    "from sklearn.linear_model import LinearRegression\n",
    "from sklearn.model_selection import GridSearchCV\n",
    "from sklearn.model_selection import cross_val_score\n",
    "from sklearn.linear_model import LogisticRegression, LogisticRegressionCV\n",
    "from sklearn.ensemble import RandomForestClassifier\n",
    "from sklearn.metrics import accuracy_score, confusion_matrix, precision_score, recall_score, ConfusionMatrixDisplay\n",
    "from sklearn.model_selection import RandomizedSearchCV, train_test_split\n",
    "from scipy.stats import randint\n",
    "from sklearn.metrics import classification_report\n",
    "import os as os\n",
    "import math\n",
    "\n",
    "warnings.filterwarnings('ignore')"
   ]
  },
  {
   "cell_type": "code",
   "execution_count": 4,
   "id": "018db746",
   "metadata": {},
   "outputs": [],
   "source": [
    "import statsmodels\n",
    "import statsmodels.formula.api as smf\n",
    "import pandas as pd\n",
    "import numpy as np\n",
    "import seaborn as sns\n",
    "from statsmodels.tools.tools import maybe_unwrap_results\n",
    "from statsmodels.graphics.gofplots import ProbPlot\n",
    "from statsmodels.stats.outliers_influence import variance_inflation_factor\n",
    "import matplotlib.pyplot as plt\n",
    "from typing import Type\n",
    "\n",
    "style_talk = 'seaborn-talk'    #refer to plt.style.available\n",
    "\n"
   ]
  },
  {
   "cell_type": "code",
   "execution_count": 5,
   "id": "1479eb69",
   "metadata": {},
   "outputs": [
    {
     "data": {
      "text/html": [
       "<div>\n",
       "<style scoped>\n",
       "    .dataframe tbody tr th:only-of-type {\n",
       "        vertical-align: middle;\n",
       "    }\n",
       "\n",
       "    .dataframe tbody tr th {\n",
       "        vertical-align: top;\n",
       "    }\n",
       "\n",
       "    .dataframe thead th {\n",
       "        text-align: right;\n",
       "    }\n",
       "</style>\n",
       "<table border=\"1\" class=\"dataframe\">\n",
       "  <thead>\n",
       "    <tr style=\"text-align: right;\">\n",
       "      <th></th>\n",
       "      <th>year</th>\n",
       "      <th>name</th>\n",
       "      <th>college</th>\n",
       "      <th>pos</th>\n",
       "      <th>height</th>\n",
       "      <th>weight</th>\n",
       "      <th>hand_size</th>\n",
       "      <th>arm_length</th>\n",
       "      <th>forty</th>\n",
       "      <th>bench</th>\n",
       "      <th>vert</th>\n",
       "      <th>broad_jump</th>\n",
       "      <th>shuttle</th>\n",
       "      <th>3cone</th>\n",
       "      <th>pick</th>\n",
       "    </tr>\n",
       "  </thead>\n",
       "  <tbody>\n",
       "    <tr>\n",
       "      <th>0</th>\n",
       "      <td>1987</td>\n",
       "      <td>Mike Adams</td>\n",
       "      <td>Arizona St.</td>\n",
       "      <td>DB</td>\n",
       "      <td>69.8</td>\n",
       "      <td>198</td>\n",
       "      <td>8.50</td>\n",
       "      <td>30.50</td>\n",
       "      <td>4.42</td>\n",
       "      <td>13.0</td>\n",
       "      <td>32.0</td>\n",
       "      <td>118.0</td>\n",
       "      <td>4.60</td>\n",
       "      <td>NaN</td>\n",
       "      <td>undrafted</td>\n",
       "    </tr>\n",
       "    <tr>\n",
       "      <th>1</th>\n",
       "      <td>1987</td>\n",
       "      <td>John Adickes</td>\n",
       "      <td>Baylor</td>\n",
       "      <td>OL</td>\n",
       "      <td>74.8</td>\n",
       "      <td>266</td>\n",
       "      <td>10.25</td>\n",
       "      <td>30.00</td>\n",
       "      <td>4.97</td>\n",
       "      <td>25.0</td>\n",
       "      <td>26.5</td>\n",
       "      <td>103.0</td>\n",
       "      <td>4.60</td>\n",
       "      <td>NaN</td>\n",
       "      <td>154</td>\n",
       "    </tr>\n",
       "    <tr>\n",
       "      <th>2</th>\n",
       "      <td>1987</td>\n",
       "      <td>Tommy Agee</td>\n",
       "      <td>Auburn</td>\n",
       "      <td>RB</td>\n",
       "      <td>71.8</td>\n",
       "      <td>217</td>\n",
       "      <td>9.00</td>\n",
       "      <td>30.75</td>\n",
       "      <td>NaN</td>\n",
       "      <td>15.0</td>\n",
       "      <td>NaN</td>\n",
       "      <td>NaN</td>\n",
       "      <td>NaN</td>\n",
       "      <td>NaN</td>\n",
       "      <td>119</td>\n",
       "    </tr>\n",
       "    <tr>\n",
       "      <th>3</th>\n",
       "      <td>1987</td>\n",
       "      <td>David Alexander</td>\n",
       "      <td>Tulsa</td>\n",
       "      <td>OL</td>\n",
       "      <td>75.0</td>\n",
       "      <td>279</td>\n",
       "      <td>10.50</td>\n",
       "      <td>32.75</td>\n",
       "      <td>5.13</td>\n",
       "      <td>22.0</td>\n",
       "      <td>27.5</td>\n",
       "      <td>105.0</td>\n",
       "      <td>4.33</td>\n",
       "      <td>NaN</td>\n",
       "      <td>121</td>\n",
       "    </tr>\n",
       "    <tr>\n",
       "      <th>4</th>\n",
       "      <td>1987</td>\n",
       "      <td>Lyneal Alston</td>\n",
       "      <td>Southern Miss</td>\n",
       "      <td>WR</td>\n",
       "      <td>72.1</td>\n",
       "      <td>202</td>\n",
       "      <td>10.00</td>\n",
       "      <td>33.00</td>\n",
       "      <td>4.64</td>\n",
       "      <td>7.0</td>\n",
       "      <td>32.0</td>\n",
       "      <td>114.0</td>\n",
       "      <td>4.52</td>\n",
       "      <td>NaN</td>\n",
       "      <td>undrafted</td>\n",
       "    </tr>\n",
       "  </tbody>\n",
       "</table>\n",
       "</div>"
      ],
      "text/plain": [
       "   year             name        college pos  height  weight  hand_size  \\\n",
       "0  1987       Mike Adams    Arizona St.  DB    69.8     198       8.50   \n",
       "1  1987     John Adickes         Baylor  OL    74.8     266      10.25   \n",
       "2  1987       Tommy Agee         Auburn  RB    71.8     217       9.00   \n",
       "3  1987  David Alexander          Tulsa  OL    75.0     279      10.50   \n",
       "4  1987    Lyneal Alston  Southern Miss  WR    72.1     202      10.00   \n",
       "\n",
       "   arm_length  forty  bench  vert  broad_jump  shuttle  3cone       pick  \n",
       "0       30.50   4.42   13.0  32.0       118.0     4.60    NaN  undrafted  \n",
       "1       30.00   4.97   25.0  26.5       103.0     4.60    NaN        154  \n",
       "2       30.75    NaN   15.0   NaN         NaN      NaN    NaN        119  \n",
       "3       32.75   5.13   22.0  27.5       105.0     4.33    NaN        121  \n",
       "4       33.00   4.64    7.0  32.0       114.0     4.52    NaN  undrafted  "
      ]
     },
     "execution_count": 5,
     "metadata": {},
     "output_type": "execute_result"
    }
   ],
   "source": [
    "# load data\n",
    "path = '/Users/dylanjorling/UCLA/412proj/data/'\n",
    "name = 'full_combine_data'\n",
    "data = pd.read_csv(path + name, index_col=0)\n",
    "data.head()\n"
   ]
  },
  {
   "cell_type": "code",
   "execution_count": 4,
   "id": "46566231",
   "metadata": {},
   "outputs": [
    {
     "data": {
      "text/html": [
       "<div>\n",
       "<style scoped>\n",
       "    .dataframe tbody tr th:only-of-type {\n",
       "        vertical-align: middle;\n",
       "    }\n",
       "\n",
       "    .dataframe tbody tr th {\n",
       "        vertical-align: top;\n",
       "    }\n",
       "\n",
       "    .dataframe thead th {\n",
       "        text-align: right;\n",
       "    }\n",
       "</style>\n",
       "<table border=\"1\" class=\"dataframe\">\n",
       "  <thead>\n",
       "    <tr style=\"text-align: right;\">\n",
       "      <th></th>\n",
       "      <th>year</th>\n",
       "      <th>name</th>\n",
       "      <th>college</th>\n",
       "      <th>pos</th>\n",
       "      <th>height (in)</th>\n",
       "      <th>weight (lbs)</th>\n",
       "      <th>hand size (in)</th>\n",
       "      <th>arm length (in)</th>\n",
       "      <th>40 yard</th>\n",
       "      <th>bench press</th>\n",
       "      <th>vert leap (in)</th>\n",
       "      <th>broad jump (in)</th>\n",
       "      <th>shuttle</th>\n",
       "      <th>3cone</th>\n",
       "      <th>pick</th>\n",
       "    </tr>\n",
       "  </thead>\n",
       "  <tbody>\n",
       "    <tr>\n",
       "      <th>0</th>\n",
       "      <td>1987</td>\n",
       "      <td>Mike Adams</td>\n",
       "      <td>Arizona St.</td>\n",
       "      <td>DB</td>\n",
       "      <td>69.8</td>\n",
       "      <td>198</td>\n",
       "      <td>8.50</td>\n",
       "      <td>30.50</td>\n",
       "      <td>4.42</td>\n",
       "      <td>13.0</td>\n",
       "      <td>32.0</td>\n",
       "      <td>118.0</td>\n",
       "      <td>4.60</td>\n",
       "      <td>NaN</td>\n",
       "      <td>undrafted</td>\n",
       "    </tr>\n",
       "    <tr>\n",
       "      <th>1</th>\n",
       "      <td>1987</td>\n",
       "      <td>John Adickes</td>\n",
       "      <td>Baylor</td>\n",
       "      <td>OL</td>\n",
       "      <td>74.8</td>\n",
       "      <td>266</td>\n",
       "      <td>10.25</td>\n",
       "      <td>30.00</td>\n",
       "      <td>4.97</td>\n",
       "      <td>25.0</td>\n",
       "      <td>26.5</td>\n",
       "      <td>103.0</td>\n",
       "      <td>4.60</td>\n",
       "      <td>NaN</td>\n",
       "      <td>154</td>\n",
       "    </tr>\n",
       "    <tr>\n",
       "      <th>2</th>\n",
       "      <td>1987</td>\n",
       "      <td>Tommy Agee</td>\n",
       "      <td>Auburn</td>\n",
       "      <td>RB</td>\n",
       "      <td>71.8</td>\n",
       "      <td>217</td>\n",
       "      <td>9.00</td>\n",
       "      <td>30.75</td>\n",
       "      <td>NaN</td>\n",
       "      <td>15.0</td>\n",
       "      <td>NaN</td>\n",
       "      <td>NaN</td>\n",
       "      <td>NaN</td>\n",
       "      <td>NaN</td>\n",
       "      <td>119</td>\n",
       "    </tr>\n",
       "    <tr>\n",
       "      <th>3</th>\n",
       "      <td>1987</td>\n",
       "      <td>David Alexander</td>\n",
       "      <td>Tulsa</td>\n",
       "      <td>OL</td>\n",
       "      <td>75.0</td>\n",
       "      <td>279</td>\n",
       "      <td>10.50</td>\n",
       "      <td>32.75</td>\n",
       "      <td>5.13</td>\n",
       "      <td>22.0</td>\n",
       "      <td>27.5</td>\n",
       "      <td>105.0</td>\n",
       "      <td>4.33</td>\n",
       "      <td>NaN</td>\n",
       "      <td>121</td>\n",
       "    </tr>\n",
       "    <tr>\n",
       "      <th>4</th>\n",
       "      <td>1987</td>\n",
       "      <td>Lyneal Alston</td>\n",
       "      <td>Southern Miss</td>\n",
       "      <td>WR</td>\n",
       "      <td>72.1</td>\n",
       "      <td>202</td>\n",
       "      <td>10.00</td>\n",
       "      <td>33.00</td>\n",
       "      <td>4.64</td>\n",
       "      <td>7.0</td>\n",
       "      <td>32.0</td>\n",
       "      <td>114.0</td>\n",
       "      <td>4.52</td>\n",
       "      <td>NaN</td>\n",
       "      <td>undrafted</td>\n",
       "    </tr>\n",
       "  </tbody>\n",
       "</table>\n",
       "</div>"
      ],
      "text/plain": [
       "   year             name        college pos  height (in)  weight (lbs)  \\\n",
       "0  1987       Mike Adams    Arizona St.  DB         69.8           198   \n",
       "1  1987     John Adickes         Baylor  OL         74.8           266   \n",
       "2  1987       Tommy Agee         Auburn  RB         71.8           217   \n",
       "3  1987  David Alexander          Tulsa  OL         75.0           279   \n",
       "4  1987    Lyneal Alston  Southern Miss  WR         72.1           202   \n",
       "\n",
       "   hand size (in)  arm length (in)  40 yard  bench press  vert leap (in)  \\\n",
       "0            8.50            30.50     4.42         13.0            32.0   \n",
       "1           10.25            30.00     4.97         25.0            26.5   \n",
       "2            9.00            30.75      NaN         15.0             NaN   \n",
       "3           10.50            32.75     5.13         22.0            27.5   \n",
       "4           10.00            33.00     4.64          7.0            32.0   \n",
       "\n",
       "   broad jump (in)  shuttle  3cone       pick  \n",
       "0            118.0     4.60    NaN  undrafted  \n",
       "1            103.0     4.60    NaN        154  \n",
       "2              NaN      NaN    NaN        119  \n",
       "3            105.0     4.33    NaN        121  \n",
       "4            114.0     4.52    NaN  undrafted  "
      ]
     },
     "execution_count": 4,
     "metadata": {},
     "output_type": "execute_result"
    }
   ],
   "source": [
    "data.columns = [x.lower() for x in data.columns]\n",
    "data.head()"
   ]
  },
  {
   "cell_type": "code",
   "execution_count": 7,
   "id": "9974d520",
   "metadata": {
    "collapsed": true
   },
   "outputs": [
    {
     "name": "stdout",
     "output_type": "stream",
     "text": [
      "       height (in)  weight (lbs)  hand size (in)  arm length (in)  40 yard  \\\n",
      "3350         76.40           244           10.00            32.50     5.01   \n",
      "3351         74.60           239            9.00            32.75     4.92   \n",
      "3355         75.50           274            9.50            35.63     5.03   \n",
      "3357         70.60           190           10.25            32.00     4.80   \n",
      "3360         70.00           203            9.50            32.00     4.66   \n",
      "...            ...           ...             ...              ...      ...   \n",
      "13495        76.88           308           10.25            33.88     4.96   \n",
      "13496        71.50           194            9.00            31.13     4.40   \n",
      "13502        78.50           249            9.75            33.00     4.76   \n",
      "13507        78.13           315           10.50            33.88     5.27   \n",
      "13542        78.13           316            9.88            32.88     5.13   \n",
      "\n",
      "       bench press  vert leap (in)  broad jump (in)  shuttle  3cone  \n",
      "3350          15.0            32.0            112.0     4.32   7.45  \n",
      "3351          18.0            33.5            115.0     4.28   7.48  \n",
      "3355          19.0            32.5            110.0     4.83   8.80  \n",
      "3357          12.0            32.5            111.0     4.05   7.14  \n",
      "3360          18.0            36.0            117.0     4.41   7.85  \n",
      "...            ...             ...              ...      ...    ...  \n",
      "13495         21.0            22.5            107.0     4.65   7.40  \n",
      "13496         15.0            37.5            127.0     4.13   6.84  \n",
      "13502         17.0            27.0            120.0     4.41   7.06  \n",
      "13507         25.0            25.0            104.0     4.93   8.31  \n",
      "13542         27.0            28.5            110.0     4.71   7.75  \n",
      "\n",
      "[5843 rows x 10 columns]\n"
     ]
    },
    {
     "data": {
      "text/plain": [
       "3350     1\n",
       "3351     0\n",
       "3355     1\n",
       "3357     1\n",
       "3360     1\n",
       "        ..\n",
       "13495    1\n",
       "13496    0\n",
       "13502    1\n",
       "13507    1\n",
       "13542    1\n",
       "Name: pick, Length: 5843, dtype: int64"
      ]
     },
     "execution_count": 7,
     "metadata": {},
     "output_type": "execute_result"
    }
   ],
   "source": [
    "data = data.dropna()\n",
    "data[\"pick\"][data[\"pick\"] == \"undrafted\"] = 0\n",
    "data[\"pick\"] = pd.to_numeric(data[\"pick\"])\n",
    "data[\"pick\"][data[\"pick\"] > 0] = 1\n",
    "#drafted = 1\n",
    "#undrafted = 0\n",
    "y = data['pick']\n",
    "X = data.iloc[:, 4:-1]\n",
    "#X = data.iloc[:, 3:-1]\n",
    "#X = pd.get_dummies(X)\n",
    "print(X)\n",
    "y\n"
   ]
  },
  {
   "cell_type": "code",
   "execution_count": 11,
   "id": "3350152e",
   "metadata": {},
   "outputs": [],
   "source": [
    "data.columns = [\"year\", \"name\", \"college\", \"pos\", \"height\", \"weight\", \"hand_size\", \"arm_length\", \"forty\", \"bench_press\", \"vert\", \"broad_jump\", \"shuttle\", \"cone\", \"pick\"]\n",
    "X.columns = [\"height\", \"weight\", \"hand_size\", \"arm_length\", \"forty\", \"bench_press\", \"vert\", \"broad_jump\", \"shuttle\", \"cone\"]\n",
    "X.corr()"
   ]
  },
  {
   "cell_type": "code",
   "execution_count": 70,
   "id": "c6105201",
   "metadata": {},
   "outputs": [
    {
     "data": {
      "text/plain": [
       "[Text(0.5, 1.0, 'Boxplot of Height by Pick')]"
      ]
     },
     "execution_count": 70,
     "metadata": {},
     "output_type": "execute_result"
    },
    {
     "data": {
      "image/png": "[encoded data removed]",
      "text/plain": [
       "<Figure size 432x288 with 1 Axes>"
      ]
     },
     "metadata": {},
     "output_type": "display_data"
    }
   ],
   "source": [
    "sns.set(style='whitegrid')\n",
    "sns.boxplot(x='pick', y='height', data=data).set(title = \"Boxplot of Height by Pick\")"
   ]
  },
  {
   "cell_type": "code",
   "execution_count": 18,
   "id": "3dd5f969",
   "metadata": {},
   "outputs": [
    {
     "data": {
      "text/plain": [
       "[Text(0.5, 1.0, 'Boxplot of Weight by Pick')]"
      ]
     },
     "execution_count": 18,
     "metadata": {},
     "output_type": "execute_result"
    },
    {
     "data": {
      "image/png": "[encoded data removed]",
      "text/plain": [
       "<Figure size 432x288 with 1 Axes>"
      ]
     },
     "metadata": {},
     "output_type": "display_data"
    }
   ],
   "source": [
    "sns.set(style='whitegrid')\n",
    "sns.boxplot(x='pick', y='weight', data=data).set(title = \"Boxplot of Weight by Pick\")"
   ]
  },
  {
   "cell_type": "code",
   "execution_count": 37,
   "id": "11b283da",
   "metadata": {},
   "outputs": [
    {
     "data": {
      "text/plain": [
       "[Text(0.5, 1.0, 'Boxplot of Hand Size by Pick')]"
      ]
     },
     "execution_count": 37,
     "metadata": {},
     "output_type": "execute_result"
    },
    {
     "data": {
      "image/png": "[encoded data removed]",
      "text/plain": [
       "<Figure size 432x288 with 1 Axes>"
      ]
     },
     "metadata": {},
     "output_type": "display_data"
    }
   ],
   "source": [
    "sns.set(style='whitegrid')\n",
    "sns.boxplot(x='pick', y='hand_size', data=data).set(title = \"Boxplot of Hand Size by Pick\")"
   ]
  },
  {
   "cell_type": "code",
   "execution_count": 38,
   "id": "74c2ab09",
   "metadata": {},
   "outputs": [
    {
     "data": {
      "text/plain": [
       "[Text(0.5, 1.0, 'Boxplot of Arm Length by Pick')]"
      ]
     },
     "execution_count": 38,
     "metadata": {},
     "output_type": "execute_result"
    },
    {
     "data": {
      "image/png": "[encoded data removed]",
      "text/plain": [
       "<Figure size 432x288 with 1 Axes>"
      ]
     },
     "metadata": {},
     "output_type": "display_data"
    }
   ],
   "source": [
    "sns.set(style='whitegrid')\n",
    "sns.boxplot(x='pick', y='arm_length', data=data).set(title = \"Boxplot of Arm Length by Pick\")"
   ]
  },
  {
   "cell_type": "code",
   "execution_count": 39,
   "id": "49db02d5",
   "metadata": {},
   "outputs": [
    {
     "data": {
      "text/plain": [
       "[Text(0.5, 1.0, 'Boxplot of 40 Yard Dash by Pick')]"
      ]
     },
     "execution_count": 39,
     "metadata": {},
     "output_type": "execute_result"
    },
    {
     "data": {
      "image/png": "[encoded data removed]",
      "text/plain": [
       "<Figure size 432x288 with 1 Axes>"
      ]
     },
     "metadata": {},
     "output_type": "display_data"
    }
   ],
   "source": [
    "sns.set(style='whitegrid')\n",
    "sns.boxplot(x='pick', y='forty', data=data).set(title = \"Boxplot of 40 Yard Dash by Pick\")"
   ]
  },
  {
   "cell_type": "code",
   "execution_count": 55,
   "id": "4f77df6c",
   "metadata": {},
   "outputs": [
    {
     "data": {
      "text/plain": [
       "[Text(0.5, 1.0, 'Boxplot of Bench Press by Pick')]"
      ]
     },
     "execution_count": 55,
     "metadata": {},
     "output_type": "execute_result"
    },
    {
     "data": {
      "image/png": "[encoded data removed]",
      "text/plain": [
       "<Figure size 432x288 with 1 Axes>"
      ]
     },
     "metadata": {},
     "output_type": "display_data"
    }
   ],
   "source": [
    "sns.set(style='whitegrid')\n",
    "sns.boxplot(x='pick', y='bench_press', data=data).set(title = \"Boxplot of Bench Press by Pick\")"
   ]
  },
  {
   "cell_type": "code",
   "execution_count": 40,
   "id": "66858a4c",
   "metadata": {},
   "outputs": [
    {
     "data": {
      "text/plain": [
       "[Text(0.5, 1.0, 'Boxplot of Vertical by Pick')]"
      ]
     },
     "execution_count": 40,
     "metadata": {},
     "output_type": "execute_result"
    },
    {
     "data": {
      "image/png": "[encoded data removed]",
      "text/plain": [
       "<Figure size 432x288 with 1 Axes>"
      ]
     },
     "metadata": {},
     "output_type": "display_data"
    }
   ],
   "source": [
    "sns.set(style='whitegrid')\n",
    "sns.boxplot(x='pick', y='vert', data=data).set(title = \"Boxplot of Vertical by Pick\")"
   ]
  },
  {
   "cell_type": "code",
   "execution_count": null,
   "id": "015f4b3c",
   "metadata": {},
   "outputs": [],
   "source": [
    "sns.set(style='whitegrid')\n",
    "sns.boxplot(x='pick', y='broad_jump', data=data).set(title = \"Boxplot of Broad Jump by Pick\")"
   ]
  },
  {
   "cell_type": "code",
   "execution_count": 42,
   "id": "0f8a8316",
   "metadata": {
    "scrolled": true
   },
   "outputs": [
    {
     "data": {
      "text/plain": [
       "[Text(0.5, 1.0, 'Boxplot of Shuttle by Pick')]"
      ]
     },
     "execution_count": 42,
     "metadata": {},
     "output_type": "execute_result"
    },
    {
     "data": {
      "image/png": "[encoded data removed]",
      "text/plain": [
       "<Figure size 432x288 with 1 Axes>"
      ]
     },
     "metadata": {},
     "output_type": "display_data"
    }
   ],
   "source": [
    "sns.set(style='whitegrid')\n",
    "sns.boxplot(x='pick', y='shuttle', data=data).set(title = \"Boxplot of Shuttle by Pick\")"
   ]
  },
  {
   "cell_type": "code",
   "execution_count": 43,
   "id": "789d3594",
   "metadata": {},
   "outputs": [
    {
     "data": {
      "text/plain": [
       "[Text(0.5, 1.0, 'Boxplot of 3Cone by Pick')]"
      ]
     },
     "execution_count": 43,
     "metadata": {},
     "output_type": "execute_result"
    },
    {
     "data": {
      "image/png": "[encoded data removed]",
      "text/plain": [
       "<Figure size 432x288 with 1 Axes>"
      ]
     },
     "metadata": {},
     "output_type": "display_data"
    }
   ],
   "source": [
    "sns.set(style='whitegrid')\n",
    "sns.boxplot(x='pick', y='cone', data=data).set(title = \"Boxplot of 3Cone by Pick\")"
   ]
  },
  {
   "cell_type": "markdown",
   "id": "82518363",
   "metadata": {},
   "source": [
    "# Condense Logistic Model"
   ]
  },
  {
   "cell_type": "code",
   "execution_count": 205,
   "id": "4b7c94ce",
   "metadata": {},
   "outputs": [],
   "source": [
    "new = X.loc[:, X.columns.isin([\"forty\", #56.8\n",
    "                               \"weight\",#, 62.9 \n",
    "                               \"shuttle\"#,65.9\n",
    "                               #\"cone\"#,66.05\n",
    "                              #\"height\", #65.9\n",
    "                              #\"arm_length\"#, 66.05\n",
    "                              #\"vert\"#, 65.7\n",
    "                              #\"bench_press\"#,65.2\n",
    "                              #\"broad_jump\"#, 65.0\n",
    "                              #\"hand_size\" 64.3\n",
    "                              ])]\n",
    "\n",
    "\n",
    "new_train, new_test, y_train, y_test = train_test_split(new, y, test_size=0.3, random_state=42)\n",
    "\n"
   ]
  },
  {
   "cell_type": "code",
   "execution_count": 206,
   "id": "3dc404b7",
   "metadata": {},
   "outputs": [
    {
     "data": {
      "text/plain": [
       "0.6588705077010839"
      ]
     },
     "execution_count": 206,
     "metadata": {},
     "output_type": "execute_result"
    }
   ],
   "source": [
    "# Logistic Regression with CV\n",
    "new_model_cv = LogisticRegressionCV(cv=10, random_state=42)\n",
    "new_model_cv.fit(new_train, y_train)\n",
    "new_model_cv.score(new_test, y_test)"
   ]
  },
  {
   "cell_type": "code",
   "execution_count": 207,
   "id": "ed4681d1",
   "metadata": {},
   "outputs": [
    {
     "name": "stdout",
     "output_type": "stream",
     "text": [
      "[[327 452]\n",
      " [146 828]]\n"
     ]
    },
    {
     "data": {
      "text/plain": [
       "[Text(0.5, 12.5, 'Predicted Class'), Text(30.5, 0.5, 'True Class')]"
      ]
     },
     "execution_count": 207,
     "metadata": {},
     "output_type": "execute_result"
    },
    {
     "data": {
      "image/png": "[encoded data removed]",
      "text/plain": [
       "<Figure size 432x288 with 2 Axes>"
      ]
     },
     "metadata": {},
     "output_type": "display_data"
    }
   ],
   "source": [
    "y_pred = new_model_cv.predict(new_test)\n",
    "cf_matrix = confusion_matrix(y_test, y_pred)\n",
    "print(cf_matrix)\n",
    "import seaborn as sns\n",
    "conf = sns.heatmap(cf_matrix, annot=True, fmt=\".0f\")\n",
    "conf.set(xlabel='Predicted Class', ylabel='True Class')"
   ]
  },
  {
   "cell_type": "code",
   "execution_count": 208,
   "id": "190d0326",
   "metadata": {},
   "outputs": [
    {
     "name": "stdout",
     "output_type": "stream",
     "text": [
      "              precision    recall  f1-score   support\n",
      "\n",
      "           0       0.69      0.42      0.52       779\n",
      "           1       0.65      0.85      0.73       974\n",
      "\n",
      "    accuracy                           0.66      1753\n",
      "   macro avg       0.67      0.63      0.63      1753\n",
      "weighted avg       0.67      0.66      0.64      1753\n",
      "\n"
     ]
    }
   ],
   "source": [
    "print(classification_report(y_test, y_pred))"
   ]
  },
  {
   "cell_type": "markdown",
   "id": "0d4bf65a",
   "metadata": {},
   "source": [
    "## Odds"
   ]
  },
  {
   "cell_type": "code",
   "execution_count": 162,
   "id": "32435fc3",
   "metadata": {},
   "outputs": [
    {
     "name": "stdout",
     "output_type": "stream",
     "text": [
      "Index(['weight', 'forty', 'shuttle'], dtype='object')\n",
      "[1.0374082566598295, 0.017438080181058697, 0.10777813172346859]\n"
     ]
    }
   ],
   "source": [
    "odds = [math.exp(x) for x in new_model_cv.coef_[0]]\n",
    "print(new_train.columns)\n",
    "print(odds)"
   ]
  },
  {
   "cell_type": "code",
   "execution_count": 163,
   "id": "a64e16a4",
   "metadata": {},
   "outputs": [
    {
     "data": {
      "text/plain": [
       "array([ 0.03634102, -3.98757502, -2.24177384])"
      ]
     },
     "execution_count": 163,
     "metadata": {},
     "output_type": "execute_result"
    }
   ],
   "source": [
    "new_model.coef_[0]"
   ]
  },
  {
   "cell_type": "code",
   "execution_count": 164,
   "id": "f2d14c10",
   "metadata": {},
   "outputs": [
    {
     "data": {
      "text/plain": [
       "Index(['weight', 'forty', 'shuttle'], dtype='object')"
      ]
     },
     "execution_count": 164,
     "metadata": {},
     "output_type": "execute_result"
    }
   ],
   "source": [
    "new_train.columns"
   ]
  },
  {
   "cell_type": "markdown",
   "id": "a7915a59",
   "metadata": {},
   "source": [
    "From our reduced model we get coefficients of 0.0363 for weight, -3.9875 for forty yard dash, and -2.2418 in shuttle. After converting these coefficients to odds we get that for every 1 pound increase in weight, the odds of being drafted to the NFL increase by 3.74%, for every 1 unit increase in Forty Yard Dash Time the odds of being drafted to the NFL decrease by 97.1%, and for every 1 unit increase in Shuttle Time the odds of being drafted to the NFL decrease by 89.6% "
   ]
  },
  {
   "cell_type": "markdown",
   "id": "ccf960d4",
   "metadata": {},
   "source": [
    "# Full Logistic"
   ]
  },
  {
   "cell_type": "code",
   "execution_count": 194,
   "id": "42f208c2",
   "metadata": {},
   "outputs": [],
   "source": [
    "X_train, X_test, y_train, y_test = train_test_split(X, y, test_size=0.3, random_state=42)"
   ]
  },
  {
   "cell_type": "code",
   "execution_count": 195,
   "id": "47cb1563",
   "metadata": {},
   "outputs": [
    {
     "name": "stdout",
     "output_type": "stream",
     "text": [
      "0.6428978893325727\n"
     ]
    }
   ],
   "source": [
    "# Logistic Regression with CV\n",
    "model_cv = LogisticRegressionCV(cv=10, random_state=42)\n",
    "model_cv.fit(X_train, y_train)\n",
    "print(model_cv.score(X_test, y_test))\n",
    "y_pred = model_cv.predict(X_test)\n"
   ]
  },
  {
   "cell_type": "code",
   "execution_count": 201,
   "id": "4b4337f0",
   "metadata": {},
   "outputs": [
    {
     "name": "stdout",
     "output_type": "stream",
     "text": [
      "[[336 443]\n",
      " [183 791]]\n",
      "              precision    recall  f1-score   support\n",
      "\n",
      "           0       0.65      0.43      0.52       779\n",
      "           1       0.64      0.81      0.72       974\n",
      "\n",
      "    accuracy                           0.64      1753\n",
      "   macro avg       0.64      0.62      0.62      1753\n",
      "weighted avg       0.64      0.64      0.63      1753\n",
      "\n"
     ]
    },
    {
     "data": {
      "image/png": "[encoded data removed]",
      "text/plain": [
       "<Figure size 432x288 with 2 Axes>"
      ]
     },
     "metadata": {},
     "output_type": "display_data"
    }
   ],
   "source": [
    "cf_matrix = confusion_matrix(y_test, y_pred)\n",
    "print(cf_matrix)\n",
    "import seaborn as sns\n",
    "conf = sns.heatmap(cf_matrix, annot=True, fmt=\".0f\")\n",
    "conf.set(xlabel='Predicted Class', ylabel='True Class')\n",
    "\n",
    "print(classification_report(y_test, y_pred))"
   ]
  },
  {
   "cell_type": "code",
   "execution_count": 204,
   "id": "cb2d9396",
   "metadata": {},
   "outputs": [
    {
     "data": {
      "text/plain": [
       "0.6410048622366289"
      ]
     },
     "execution_count": 204,
     "metadata": {},
     "output_type": "execute_result"
    }
   ],
   "source": [
    "791/(791+443) #of the predicted positive values it only identifies 64% correctly\n",
    "791/(791+183) # of the drafted players it identifies 81% of them"
   ]
  },
  {
   "cell_type": "markdown",
   "id": "179dd810",
   "metadata": {},
   "source": [
    "## RF"
   ]
  },
  {
   "cell_type": "code",
   "execution_count": 209,
   "id": "5d1578a9",
   "metadata": {},
   "outputs": [
    {
     "data": {
      "text/plain": [
       "RandomForestClassifier()"
      ]
     },
     "execution_count": 209,
     "metadata": {},
     "output_type": "execute_result"
    }
   ],
   "source": [
    "rf = RandomForestClassifier()\n",
    "rf.fit(X_train, y_train)"
   ]
  },
  {
   "cell_type": "code",
   "execution_count": 210,
   "id": "bc84cf9d",
   "metadata": {},
   "outputs": [],
   "source": [
    "y_pred = rf.predict(X_test)"
   ]
  },
  {
   "cell_type": "code",
   "execution_count": 211,
   "id": "4c2a3a83",
   "metadata": {},
   "outputs": [
    {
     "name": "stdout",
     "output_type": "stream",
     "text": [
      "Accuracy: 0.6423274386765545\n"
     ]
    }
   ],
   "source": [
    "accuracy = accuracy_score(y_test, y_pred)\n",
    "print(\"Accuracy:\", accuracy)"
   ]
  },
  {
   "cell_type": "code",
   "execution_count": 212,
   "id": "c74867e6",
   "metadata": {},
   "outputs": [
    {
     "name": "stdout",
     "output_type": "stream",
     "text": [
      "              precision    recall  f1-score   support\n",
      "\n",
      "           0       0.63      0.46      0.53       779\n",
      "           1       0.65      0.79      0.71       974\n",
      "\n",
      "    accuracy                           0.64      1753\n",
      "   macro avg       0.64      0.62      0.62      1753\n",
      "weighted avg       0.64      0.64      0.63      1753\n",
      "\n"
     ]
    }
   ],
   "source": [
    "print(classification_report(y_test, y_pred))"
   ]
  },
  {
   "cell_type": "code",
   "execution_count": 213,
   "id": "ce22b126",
   "metadata": {},
   "outputs": [
    {
     "name": "stdout",
     "output_type": "stream",
     "text": [
      "[[360 419]\n",
      " [208 766]]\n"
     ]
    },
    {
     "data": {
      "text/plain": [
       "[Text(0.5, 12.5, 'Predicted Class'), Text(30.5, 0.5, 'True Class')]"
      ]
     },
     "execution_count": 213,
     "metadata": {},
     "output_type": "execute_result"
    },
    {
     "data": {
      "image/png": "[encoded data removed]",
      "text/plain": [
       "<Figure size 432x288 with 2 Axes>"
      ]
     },
     "metadata": {},
     "output_type": "display_data"
    }
   ],
   "source": [
    "cf_matrix1 = confusion_matrix(y_test, y_pred)\n",
    "print(cf_matrix1)\n",
    "import seaborn as sns\n",
    "conf1 = sns.heatmap(cf_matrix1, annot=True, fmt=\".0f\")\n",
    "conf1.set(xlabel='Predicted Class', ylabel='True Class')"
   ]
  },
  {
   "cell_type": "code",
   "execution_count": 182,
   "id": "1aac4bbd",
   "metadata": {},
   "outputs": [
    {
     "data": {
      "image/png": "[encoded data removed]",
      "text/plain": [
       "<Figure size 432x288 with 1 Axes>"
      ]
     },
     "metadata": {},
     "output_type": "display_data"
    }
   ],
   "source": [
    "feature_importances = pd.Series(rf.feature_importances_, index=X_train.columns).sort_values(ascending=False)\n",
    "\n",
    "# Plot a simple bar chart\n",
    "feature_importances.plot.bar();"
   ]
  },
  {
   "cell_type": "code",
   "execution_count": 214,
   "id": "35b1cad6",
   "metadata": {},
   "outputs": [],
   "source": [
    "fws = X[[\"forty\", \"weight\", \"shuttle\"]]\n",
    "new_train2, new_test2, y_train2, y_test2 = train_test_split(fws, y, test_size=0.3, random_state=42)"
   ]
  },
  {
   "cell_type": "code",
   "execution_count": 215,
   "id": "62839078",
   "metadata": {},
   "outputs": [
    {
     "name": "stdout",
     "output_type": "stream",
     "text": [
      "Accuracy: 0.6383342840844267\n"
     ]
    }
   ],
   "source": [
    "rf2 = RandomForestClassifier()\n",
    "rf2.fit(new_train2, y_train2)\n",
    "y_pred2 = rf2.predict(new_test2)\n",
    "accuracy = accuracy_score(y_test2, y_pred2)\n",
    "print(\"Accuracy:\", accuracy)"
   ]
  },
  {
   "cell_type": "code",
   "execution_count": 216,
   "id": "87c1e3b1",
   "metadata": {},
   "outputs": [
    {
     "name": "stdout",
     "output_type": "stream",
     "text": [
      "              precision    recall  f1-score   support\n",
      "\n",
      "           0       0.62      0.49      0.55       779\n",
      "           1       0.65      0.76      0.70       974\n",
      "\n",
      "    accuracy                           0.64      1753\n",
      "   macro avg       0.63      0.62      0.62      1753\n",
      "weighted avg       0.64      0.64      0.63      1753\n",
      "\n"
     ]
    }
   ],
   "source": [
    "print(classification_report(y_test2,y_pred2))"
   ]
  },
  {
   "cell_type": "code",
   "execution_count": 217,
   "id": "0508d627",
   "metadata": {
    "scrolled": true
   },
   "outputs": [
    {
     "name": "stdout",
     "output_type": "stream",
     "text": [
      "[[382 397]\n",
      " [237 737]]\n"
     ]
    },
    {
     "data": {
      "text/plain": [
       "[Text(0.5, 12.5, 'Predicted Class'), Text(30.5, 0.5, 'True Class')]"
      ]
     },
     "execution_count": 217,
     "metadata": {},
     "output_type": "execute_result"
    },
    {
     "data": {
      "image/png": "[encoded data removed]",
      "text/plain": [
       "<Figure size 432x288 with 2 Axes>"
      ]
     },
     "metadata": {},
     "output_type": "display_data"
    }
   ],
   "source": [
    "cf_matrix2 = confusion_matrix(y_test2, y_pred2)\n",
    "print(cf_matrix2)\n",
    "import seaborn as sns\n",
    "conf2 = sns.heatmap(cf_matrix2, annot=True, fmt=\".0f\")\n",
    "conf2.set(xlabel='Predicted Class', ylabel='True Class')"
   ]
  }
 ],
 "metadata": {
  "kernelspec": {
   "display_name": "Python 3 (ipykernel)",
   "language": "python",
   "name": "python3"
  },
  "language_info": {
   "codemirror_mode": {
    "name": "ipython",
    "version": 3
   },
   "file_extension": ".py",
   "mimetype": "text/x-python",
   "name": "python",
   "nbconvert_exporter": "python",
   "pygments_lexer": "ipython3",
   "version": "3.9.13"
  }
 },
 "nbformat": 4,
 "nbformat_minor": 5
}
